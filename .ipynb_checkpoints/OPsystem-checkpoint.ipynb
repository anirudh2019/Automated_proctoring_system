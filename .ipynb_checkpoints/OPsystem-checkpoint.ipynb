{
 "cells": [
  {
   "cell_type": "code",
   "execution_count": 1,
   "id": "f19125be-4634-4de8-a40f-59c098552eee",
   "metadata": {},
   "outputs": [
    {
     "name": "stderr",
     "output_type": "stream",
     "text": [
      "C:\\Users\\Kathuri Abhinav\\anaconda3\\envs\\miniproject\\lib\\site-packages\\numpy\\_distributor_init.py:30: UserWarning: loaded more than 1 DLL from .libs:\n",
      "C:\\Users\\Kathuri Abhinav\\anaconda3\\envs\\miniproject\\lib\\site-packages\\numpy\\.libs\\libopenblas.PYQHXLVVQ7VESDPUVUADXEVJOBGHJPAY.gfortran-win_amd64.dll\n",
      "C:\\Users\\Kathuri Abhinav\\anaconda3\\envs\\miniproject\\lib\\site-packages\\numpy\\.libs\\libopenblas.WCDJNK7YVMPZQ2ME2ZZHJJRJ3JIKNDB7.gfortran-win_amd64.dll\n",
      "  warnings.warn(\"loaded more than 1 DLL from .libs:\"\n"
     ]
    }
   ],
   "source": [
    "import numpy as np\n",
    "import cv2\n",
    "import sys\n",
    "\n",
    "from face_detection import detect_faces\n",
    "from face_recog import Recognizer\n",
    "from face_land import detect_landmarks\n",
    "from headpose import head_main\n",
    "from eye_tracker import eye_tracking\n",
    "from detect_open_mouth import main_open_mouth\n",

    "import utils\n",
    "\n",
    "font = cv2.FONT_HERSHEY_PLAIN \n",
    "pTime = [0]\n",
    "\n",
    "%load_ext autoreload\n",
    "%autoreload 2\n",

    "np.set_printoptions(threshold= sys.maxsize)"

   ]
  },
  {
   "cell_type": "code",
   "execution_count": 2,
   "id": "47386dbb-e78e-486e-bf7a-87f97cec1d36",
   "metadata": {},
   "outputs": [
    {
     "name": "stdin",
     "output_type": "stream",
     "text": [
     ]
    }
   ],
   "source": [
    "# Face recognizer\n",
    "fr = Recognizer(threshold = 0.8)\n",
    "\n",
    "# Register User\n",
    "fr.input_embeddings = utils.register_user(fr, num_pics = 5)"
   ]
  },
  {
   "cell_type": "code",
   "execution_count": 14,
   "id": "8f0c9c75-3f07-4e8a-86f2-dfcf57003453",
   "metadata": {},
   "outputs": [
    {
     "name": "stderr",
     "output_type": "stream",
     "text": [
      "C:\\Users\\Kathuri Abhinav\\mini_project_iiita\\eye_tracker.py:39: RuntimeWarning: divide by zero encountered in long_scalars\n",
      "  y_ratio = (cy - end_points[1])/(end_points[3] - cy)\n",
      "C:\\Users\\Kathuri Abhinav\\mini_project_iiita\\eye_tracker.py:38: RuntimeWarning: divide by zero encountered in long_scalars\n",
      "  x_ratio = (end_points[0] - cx)/(cx - end_points[2])\n"
     ]
    }
   ],
   "source": [
    "if __name__ == \"__main__\":\n",
    "    cap = cv2.VideoCapture(0)\n",
    "    cv2.namedWindow('PROCTORING ON')\n",
    "    frame_count = 0\n",
    "\n",
    "    while(True):\n",
    "        ret, frame = cap.read()\n",
    "        frame_count+=1\n",
    "        frame = utils.print_fps(cv2.flip(frame, 1), pTime)\n",
    "        \n",
    "        #Faces detection\n",
    "        det_alert, faces =  detect_faces(frame, confidence = 0.7)\n",
    "        \n",
    "        if det_alert!=\"No Face\": \n",
    "            #Face verification\n",
    "            fr.verify_faces(faces)\n",
    "            \n",
    "        frame = utils.print_faces(frame, faces)\n",

    "        #Facial landmarks detection\n",
    "        ret, shape, frame = detect_landmarks(frame, faces, module=\"Dlib\", draw= True)\n",
    "        if ret:\n",
    "                head_main(frame,shape, copy=False)\n",
    "                eye_tracking(frame, shape, threshold = 75)\n",
    "                frame = main_open_mouth(frame, shape)\n",

    "        \n",
    "        cv2.imshow('PROCTORING ON',  frame)\n",
    "                \n",
    "        if cv2.waitKey(1) & 0xFF == 27: \n",
    "            break\n",
    "    cap.release()\n",
    "    cv2.destroyAllWindows()"
   ]
  },
  {
   "cell_type": "code",
   "execution_count": 4,
   "id": "144bf861-1877-466c-914f-be8e41d726c8",
   "metadata": {},
   "outputs": [],
   "source": [
    "#    DO NOT DELETE THIS!\n",
    "# Warnings in head pose estimation:\n",
    "#     C:\\Users\\Anirudh\\mini_project_iiita\\headpose.py:129: RuntimeWarning: divide by zero encountered in int_scalars\n",
    "#   m = (x2[1] - x1[1])/(x2[0] - x1[0])\n",
    "#   ang2 = ...(1/m)..\n",
    "# C:\\Users\\Anirudh\\mini_project_iiita\\eye_tracker.py:39: RuntimeWarning: divide by zero encountered in long_scalars\n",
    "#   y_ratio = (cy - end_points[1])/(end_points[3] - cy)"
   ]
  },
  {
   "cell_type": "code",
   "execution_count": 5,
   "id": "0bbe44ce-3262-4d2c-9182-900acfb22162",
   "metadata": {},
   "outputs": [],
   "source": [
    "# Rough:\n",
    "        # outputs: detreg_out, landeye_out, head_out\n",
    "#         head_out = cv2.copyMakeBorder(head_out, 0, 0, 320, 320, cv2.BORDER_CONSTANT, (0,0,0))\n",
    "#         horiz = np.concatenate((horiz, head_out), axis = 1)"
   ]
  },
  {
   "cell_type": "code",
   "execution_count": null,
   "id": "aed4d62f-fc5c-40b4-b32a-5e04be6582fc",
   "metadata": {},
   "outputs": [],
   "source": []
  },
  {
   "cell_type": "code",
   "execution_count": null,
   "id": "1b7dedc8-6b60-4c2b-80ce-2ab1f7c736f0",
   "metadata": {},
   "outputs": [],
   "source": []
  },
  {
   "cell_type": "code",
   "execution_count": null,
   "id": "fbb25fff-d149-4472-be24-b1a818591788",
   "metadata": {},
   "outputs": [],
   "source": []
  },
  {
   "cell_type": "code",
   "execution_count": null,
   "id": "b35d5439-4042-4c55-94a7-0290bec07d07",
   "metadata": {},
   "outputs": [],
   "source": []
  },
  {
   "cell_type": "code",
   "execution_count": null,
   "id": "e0f50af4-318b-43f5-a845-e14942bacfc0",
   "metadata": {},
   "outputs": [],
   "source": []
  },
  {
   "cell_type": "code",
   "execution_count": null,
   "id": "86b3eaff-c5eb-46c0-bb0a-19da12832631",
   "metadata": {},
   "outputs": [],
   "source": []
  }
 ],
 "metadata": {
  "kernelspec": {
   "display_name": "Python 3 (ipykernel)",
   "language": "python",
   "name": "python3"
  },
  "language_info": {
   "codemirror_mode": {
    "name": "ipython",
    "version": 3
   },
   "file_extension": ".py",
   "mimetype": "text/x-python",
   "name": "python",
   "nbconvert_exporter": "python",
   "pygments_lexer": "ipython3",
   "version": "3.8.11"
  }
 },
 "nbformat": 4,
 "nbformat_minor": 5
}
